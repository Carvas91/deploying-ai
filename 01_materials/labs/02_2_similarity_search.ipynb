{
 "cells": [
  {
   "cell_type": "markdown",
   "id": "13d6d5a6",
   "metadata": {},
   "source": [
    "# Similarity Search\n",
    "\n",
    "Cosine similarity is a technique from information retrieval. It can be used to find documents that are similar to each other, for example, by giving the user the option to \"show me more documents like this.\"\n",
    "\n",
    "## Cosine Similarity\n",
    "\n",
    "We start with a vector representation of our text data. This can be obtained using tokenization or embeddings, as discussed elsewhere in these notes. \n",
    "\n",
    "+ If the vectors are identical, then the angle is 0 degrees and the cosine similarity is 1.\n",
    "+ If the vectors are unrelated, the angle is 90 degrees and the cosine similarity is 0.\n",
    "+ If the vectors are opposite directions, the angle is 180 degress and the cosine similarity is -1.\n",
    "\n",
    "The cosine is a trigonometric function that, when applied to any vector, results in a metric that depends on the differences of direction in the vector and not on their magnitude. This is important because it allows us to compare documents of different lengths. \n",
    "\n",
    "![](img/02_cosine_similarity.png)\n",
    "\n",
    "Image source: Cosine Similarity Explained ([Shivanandhan, 2025](https://medium.com/data-science-collective/cosine-similarity-explained-the-math-behind-llms-b20caac9f93c))"
   ]
  },
  {
   "cell_type": "markdown",
   "id": "e122798d",
   "metadata": {},
   "source": [
    "Given a corpus of documents, we can obtain their tf-idf similarity as before."
   ]
  },
  {
   "cell_type": "code",
   "execution_count": null,
   "id": "2efdd8cd",
   "metadata": {},
   "outputs": [],
   "source": [
    "from sklearn.feature_extraction.text import TfidfVectorizer\n",
    "from sklearn.metrics.pairwise import cosine_similarity\n",
    "\n",
    "documents = [\n",
    "    \"Freedom consists not in doing what we like, but in having the right to do what we ought.\",\n",
    "    \"Those who deny freedom to others deserve it not for themselves.\",\n",
    "    \"Liberty, when it begins to take root, is a plant of rapid growth.\",\n",
    "    \"Freedom lies in being bold.\",\n",
    "    \"Is freedom anything else than the right to live as we wish?\",\n",
    "    \"I am no bird and no net ensnares me: I am a free human being with an independent will.\",\n",
    "    \"The secret to happiness is freedom... And the secret to freedom is courage.\"\n",
    "    \"Freedom is the oxygen of the soul.\", \n",
    "    \"Life without liberty is like a body without spirit.\"\n",
    "]\n",
    "\n",
    "vectorizer = TfidfVectorizer()\n",
    "X = vectorizer.fit_transform(documents)\n",
    "cosine_similarities = cosine_similarity(X)"
   ]
  },
  {
   "cell_type": "markdown",
   "id": "52d76f7f",
   "metadata": {},
   "source": [
    "We plot the results to illustrate a similarity search."
   ]
  },
  {
   "cell_type": "code",
   "execution_count": null,
   "id": "f76ac080",
   "metadata": {},
   "outputs": [],
   "source": [
    "import pandas as pd\n",
    "import matplotlib.pyplot as plt\n",
    "\n",
    "similarities_df = pd.DataFrame(cosine_similarities)\n",
    "row = similarities_df.loc[0,:]\n",
    "\n",
    "row.plot(kind='bar', \n",
    "         xlabel='Documents',\n",
    "         ylabel='Cosine Similarity', \n",
    "         title='Cosine Similarity per Document Compared to Document 0')\n",
    "\n",
    "plt.xticks(range(len(documents)), documents, rotation=45, ha='right')\n",
    "plt.show()"
   ]
  },
  {
   "cell_type": "markdown",
   "id": "d6b60fd7",
   "metadata": {},
   "source": [
    "Perform a similarity search:"
   ]
  },
  {
   "cell_type": "code",
   "execution_count": null,
   "id": "6c5a5497",
   "metadata": {},
   "outputs": [],
   "source": [
    "def most_similar(similarity_matrix, index):\n",
    "    similarities = similarity_matrix[index].copy()\n",
    "    similarities[index] = -1  # Exclude self\n",
    "    return similarities.argmax()"
   ]
  },
  {
   "cell_type": "code",
   "execution_count": null,
   "id": "2900fcb2",
   "metadata": {},
   "outputs": [],
   "source": [
    "most_similar(cosine_similarities, 0)"
   ]
  },
  {
   "cell_type": "markdown",
   "id": "b8c87e1a",
   "metadata": {},
   "source": [
    "We have found texts that *look* similar. However, we may want to find texts that have *similar meaning*."
   ]
  }
 ],
 "metadata": {
  "kernelspec": {
   "display_name": "deploying-ai-env",
   "language": "python",
   "name": "python3"
  },
  "language_info": {
   "codemirror_mode": {
    "name": "ipython",
    "version": 3
   },
   "file_extension": ".py",
   "mimetype": "text/x-python",
   "name": "python",
   "nbconvert_exporter": "python",
   "pygments_lexer": "ipython3",
   "version": "3.12.11"
  }
 },
 "nbformat": 4,
 "nbformat_minor": 5
}
