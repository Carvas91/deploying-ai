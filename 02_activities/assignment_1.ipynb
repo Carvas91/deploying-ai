{
 "cells": [
  {
   "cell_type": "markdown",
   "id": "f0928fd5",
   "metadata": {},
   "source": [
    "# Deploying AI\n",
    "## Assignment 1: Evaluating Summaries"
   ]
  },
  {
   "cell_type": "markdown",
   "id": "8f3586e4",
   "metadata": {},
   "source": [
    "A key application of LLMs is to summarize documents. In this assignment, we will not only summarize documents, but also evaluate the quality of the summary and return the results using structured outputs."
   ]
  },
  {
   "cell_type": "markdown",
   "id": "609f2fa2",
   "metadata": {},
   "source": [
    "**Instructions:** please complete the sections below stating any relevant decisions that you have made and showing the code substantiating your solution."
   ]
  },
  {
   "cell_type": "markdown",
   "id": "604f0601",
   "metadata": {},
   "source": [
    "## Select a Document\n",
    "\n",
    "Please select one out of the following articles:\n",
    "\n",
    "+ [Managing Oneself, by Peter Druker](https://www.thecompleteleader.org/sites/default/files/imce/Managing%20Oneself_Drucker_HBR.pdf)  (PDF)\n",
    "+ [The GenAI Divide: State of AI in Business 2025](https://www.artificialintelligence-news.com/wp-content/uploads/2025/08/ai_report_2025.pdf) (PDF)\n",
    "+ [What is Noise?, by Alex Ross](https://www.newyorker.com/magazine/2024/04/22/what-is-noise) (Web)"
   ]
  },
  {
   "cell_type": "markdown",
   "id": "2c125d1e",
   "metadata": {},
   "source": [
    "# Load Secrets"
   ]
  },
  {
   "cell_type": "code",
   "execution_count": 1,
   "id": "b8dbcc48",
   "metadata": {},
   "outputs": [],
   "source": [
    "%load_ext dotenv\n",
    "%dotenv ../05_src/.secrets"
   ]
  },
  {
   "cell_type": "markdown",
   "id": "7b036115",
   "metadata": {},
   "source": [
    "## Load Document\n",
    "\n",
    "Depending on your choice, you can consult the appropriate set of functions below. Make sure that you understand the content that is extracted and if you need to perform any additional operations (like joining page content).\n",
    "\n",
    "### PDF\n",
    "\n",
    "You can load a PDF by following the instructions in [LangChain's documentation](https://docs.langchain.com/oss/python/langchain/knowledge-base#loading-documents). Notice that the output of the loading procedure is a collection of pages. You can join the pages by using the code below.\n",
    "\n",
    "```python\n",
    "document_text = \"\"\n",
    "for page in docs:\n",
    "    document_text += page.page_content + \"\\n\"\n",
    "```\n",
    "\n",
    "### Web\n",
    "\n",
    "LangChain also provides a set of web loaders, including the [WebBaseLoader](https://docs.langchain.com/oss/python/integrations/document_loaders/web_base). You can use this function to load web pages."
   ]
  },
  {
   "cell_type": "code",
   "execution_count": 2,
   "id": "256159db",
   "metadata": {},
   "outputs": [
    {
     "name": "stdout",
     "output_type": "stream",
     "text": [
      "The document has 13 pages\n"
     ]
    }
   ],
   "source": [
    "from langchain_community.document_loaders import PyPDFLoader\n",
    "\n",
    "# Path to the PDF file\n",
    "pdf_path = \"../05_src/documents/Managing_Oneself_Drucker_HBR.pdf\"\n",
    "\n",
    "# loader\n",
    "loader = PyPDFLoader(pdf_path)\n",
    "\n",
    "# Load the PDF (each page becomes one Document object)\n",
    "docs = loader.load()\n",
    "\n",
    "# Check how many pages were loaded\n",
    "print(f\"The document has {len(docs)} pages\")\n"
   ]
  },
  {
   "cell_type": "code",
   "execution_count": 3,
   "id": "c8ddcfec",
   "metadata": {},
   "outputs": [
    {
     "name": "stdout",
     "output_type": "stream",
     "text": [
      "www.hbr.org\n",
      "B\n",
      " \n",
      "EST  \n",
      " \n",
      "OF  HBR 1999\n",
      " \n",
      "Managing Oneself\n",
      " \n",
      "by Peter F . Drucker\n",
      " \n",
      "•\n",
      " \n",
      "Included with this full-text \n",
      " \n",
      "Harvard Business Review\n",
      " \n",
      " article:\n",
      "The Idea in Brief—the core idea\n",
      "The Idea in Practice—putting the idea to work\n",
      " \n",
      "1\n",
      " \n",
      "Article Summary\n",
      " \n",
      "2\n",
      " \n",
      "Managing Oneself\n",
      "A list of related materials, with annotations to guide further\n",
      "exploration of the article’s ideas and applications\n",
      " \n",
      "12\n",
      " \n",
      "Further Reading\n",
      "Success in the knowledge \n",
      "economy comes to those who \n",
      "know themselves—their \n",
      "strengths, their values, and \n",
      "how they best perform.\n",
      " \n",
      "Reprint R0501KThis document is authorized for use only by Sharon Brooks (SHARON@PRICE-ASSOCIATES.COM). Copying or posting is an infringement of copyright. Please contact \n",
      "customerservice@harvardbusiness.org or 800-988-0886 for additional copies.\n",
      "B\n",
      " \n",
      "EST\n",
      " \n",
      " \n",
      " \n",
      "OF\n",
      " \n",
      " HBR 1999\n",
      " \n",
      "Managing Oneself\n",
      " \n",
      "page 1\n",
      " \n",
      "The Idea in Brief The Idea in Practice\n",
      " \n",
      "COPYRIGHT © 2004 HARVARD BUSINESS SCHOOL PUBLISHING CORPORATION. ALL RIGHTS RESERVED.\n",
      " \n",
      "We live in an age of\n"
     ]
    }
   ],
   "source": [
    "document_text = \"\"\n",
    "for page in docs:\n",
    "    document_text += page.page_content + \"\\n\"\n",
    "\n",
    "print(document_text[:1000])  # preview the first 1000 characters\n"
   ]
  },
  {
   "cell_type": "code",
   "execution_count": 4,
   "id": "0e145015",
   "metadata": {},
   "outputs": [
    {
     "name": "stdout",
     "output_type": "stream",
     "text": [
      "This is a summary of the document: \n",
      "Total characters: 51452\n",
      "Total words: 8670\n"
     ]
    }
   ],
   "source": [
    "print(\"This is a summary of the document: \")\n",
    "print(f\"Total characters: {len(document_text)}\")\n",
    "print(f\"Total words: {len(document_text.split())}\")"
   ]
  },
  {
   "cell_type": "markdown",
   "id": "6951b9f3",
   "metadata": {},
   "source": [
    "## Generation Task\n",
    "\n",
    "Using the OpenAI SDK, please create a **structured outut** with the following specifications:\n",
    "\n",
    "+ Use a model that is NOT in the GPT-5 family.\n",
    "+ Output should be a Pydantic BaseModel object. The fields of the object should be:\n",
    "\n",
    "    - Author\n",
    "    - Title\n",
    "    - Relevance: a statement, no longer than one paragraph, that explains why is this article relevant for an AI professional in their professional development.\n",
    "    - Summary: a concise and succinct summary no longer than 1000 tokens.\n",
    "    - Tone: the tone used to produce the summary (see below).\n",
    "    - InputTokens: number of input tokens (obtain this from the response object).\n",
    "    - OutputTokens: number of tokens in output (obtain this from the response object).\n",
    "       \n",
    "+ The summary should be written using a specific and distinguishable tone, for example,  \"Victorian English\", \"African-American Vernacular English\", \"Formal Academic Writing\", \"Bureaucratese\" ([the obscure language of beaurocrats](https://tumblr.austinkleon.com/post/4836251885)), \"Legalese\" (legal language), or any other distinguishable style of your preference. Make sure that the style is something you can identify. \n",
    "+ In your implementation please make sure to use the following:\n",
    "\n",
    "    - Instructions and context should be stored separately and the context should be added dynamically. Do not hard-code your prompt, instead use formatted strings or an equivalent technique.\n",
    "    - Use the developer (instructions) prompt and the user prompt.\n"
   ]
  },
  {
   "cell_type": "code",
   "execution_count": 5,
   "id": "87372dc1",
   "metadata": {},
   "outputs": [],
   "source": [
    "from openai import OpenAI\n",
    "from pydantic import BaseModel\n",
    "\n",
    "client = OpenAI()\n",
    "\n",
    "# Define the structured output\n",
    "class ArticleSummary(BaseModel):\n",
    "    author: str\n",
    "    title: str\n",
    "    relevance: str\n",
    "    summary: str\n",
    "    tone: str = \"Canadian Vernacular English\"\n",
    "    input_tokens: int\n",
    "    output_tokens: int\n"
   ]
  },
  {
   "cell_type": "code",
   "execution_count": 6,
   "id": "56994231",
   "metadata": {},
   "outputs": [],
   "source": [
    "instructions = \"\"\"\n",
    "You are an expert summarizer and writing assistant.\n",
    "Your goal is to produce an easy-to-read summary in Canadian vernacular English.\n",
    "Focus on practical, life-applicable lessons.\n",
    "\"\"\"\n",
    "\n",
    "# Use formatted strings so the document text is inserted dynamically\n",
    "USER_PROMPT = f\"\"\"\n",
    "Summarize the following article in clear, everyday Canadian English.\n",
    "The summary should be easy to understand and practical — something a reader could apply in their own life or work.\n",
    "\n",
    "Include:\n",
    "- Author\n",
    "- Title\n",
    "- A short relevance paragraph explaining why this article is useful for personal and professional development.\n",
    "- A concise summary and how to apply that in life (under 3000 tokens but not less than 1500 tokens).\n",
    "- The tone used (\"Canadian Vernacular English\").\n",
    "\n",
    "<Article>\n",
    "{document_text}\n",
    "</Article>\n",
    "\"\"\"\n"
   ]
  },
  {
   "cell_type": "code",
   "execution_count": 7,
   "id": "593e8eba",
   "metadata": {},
   "outputs": [],
   "source": [
    "response = client.responses.parse(\n",
    "    model=\"gpt-4o-mini\",\n",
    "    input=[\n",
    "        {\"role\": \"developer\", \"content\": instructions},\n",
    "        {\"role\": \"user\", \"content\": USER_PROMPT},\n",
    "    ],\n",
    "    text_format=ArticleSummary,\n",
    ")\n"
   ]
  },
  {
   "cell_type": "code",
   "execution_count": 8,
   "id": "5eb1b3e3",
   "metadata": {},
   "outputs": [
    {
     "name": "stdout",
     "output_type": "stream",
     "text": [
      "Author: Peter F. Drucker\n",
      "\n",
      "Title: Managing Oneself\n",
      "\n",
      "Relevance: This article highlights the importance of self-awareness and personal accountability in today's fast-paced, knowledge-driven work environment. By understanding our strengths, values, and how we work, we can take charge of our careers and enhance both personal and professional development, making it particularly relevant for anyone looking to thrive in their job.\n",
      "\n",
      "Summary: In \"Managing Oneself,\" Peter Drucker emphasizes that in today's job market, individuals must take charge of their own careers, acting as their own CEO. This starts with understanding oneself—knowing your strengths, values, work style, and where you belong in the professional landscape.\n",
      "\n",
      "**Key Takeaways:**\n",
      "1. **Identify Strengths:** Use feedback analysis to determine your skills. Keep track of decisions and expected outcomes, and compare them with actual results to identify patterns. Focus on enhancing your strengths rather than trying to improve areas where you are weak.\n",
      "\n",
      "2. **Understand Work Style:** Reflect on how you process information and make decisions. Are you a reader or a listener? Do you work better alone or in teams? Knowing how you perform allows you to maximize your effectiveness.\n",
      "\n",
      "3. **Define Your Values:** Understand what principles guide you. Aligning your work with your personal values is crucial for long-term satisfaction and performance. If your employers’ values differ significantly from yours, the resulting friction can hinder your professional success.\n",
      "\n",
      "4. **Determine Where You Fit:** Evaluate your strengths, work style, and values to find the right environment for you. This helps transition from being an acceptable employee to a star performer.\n",
      "\n",
      "5. **Clarify Contributions:** In today’s workforce, knowledge workers must ask, “What should my contribution be?” Assess situations and uncover how you can add value based on your unique strengths.\n",
      "\n",
      "6. **Build Relationships:** Take responsibility for your work relationships. Understand your colleagues’ strengths and how they operate—this mutual awareness can maximize team effectiveness. Open communication about roles and expectations can prevent misunderstandings and enhance collaboration.\n",
      "\n",
      "7. **Plan for the Future:** Think about your second career or parallel pursuits. As key personal and professional challenges arise—like midlife crises or job dissatisfaction—having another passion or role can provide fulfillment and balance.\n",
      "\n",
      "**How to Apply This in Your Life:**\n",
      "- **Self-Reflection:** Regularly assess your skills and gather feedback from trusted peers. Identify specific areas for improvement while committing to develop your strengths.\n",
      "- **Set Goals:** Define what you want out of your career and establish actionable steps to achieve that, building on your strengths and preferred work styles. \n",
      "- **Be Adaptable:** Be open to changing your path when necessary. If your current environment isn’t conducive to your success or reflects misaligned values, don’t hesitate to explore options that better match your capabilities and ethics.\n",
      "- **Engage with Others:** Establish strong communication with coworkers and leaders about each other’s strengths and contributions. Building relationships based on understanding can foster a more effective work environment.\n",
      "\n",
      "Tone: Canadian Vernacular English  (friendly and straightforward)\n",
      "\n",
      "Input_tokens: 6039\n",
      "\n",
      "Output_tokens: 1490\n",
      "\n"
     ]
    },
    {
     "name": "stderr",
     "output_type": "stream",
     "text": [
      "C:\\Users\\carva\\AppData\\Local\\Temp\\ipykernel_28216\\204493639.py:2: PydanticDeprecatedSince20: The `dict` method is deprecated; use `model_dump` instead. Deprecated in Pydantic V2.0 to be removed in V3.0. See Pydantic V2 Migration Guide at https://errors.pydantic.dev/2.11/migration/\n",
      "  for key, value in result.dict().items():\n"
     ]
    }
   ],
   "source": [
    "result = response.output_parsed\n",
    "for key, value in result.dict().items():\n",
    "    print(f\"{key.capitalize()}: {value}\\n\")\n"
   ]
  },
  {
   "cell_type": "code",
   "execution_count": 9,
   "id": "c8963d30",
   "metadata": {},
   "outputs": [
    {
     "name": "stdout",
     "output_type": "stream",
     "text": [
      "Input tokens: 6039\n",
      "Output tokens: 1490\n"
     ]
    }
   ],
   "source": [
    "print(\"Input tokens:\", result.input_tokens)\n",
    "print(\"Output tokens:\", result.output_tokens)"
   ]
  },
  {
   "cell_type": "markdown",
   "id": "ec1e63f8",
   "metadata": {},
   "source": [
    "# Evaluate the Summary\n",
    "\n",
    "Use the DeepEval library to evaluate the **summary** as follows:\n",
    "\n",
    "+ Summarization Metric:\n",
    "\n",
    "    - Use the [Summarization metric](https://deepeval.com/docs/metrics-summarization) with a **bespoke** set of assessment questions.\n",
    "    - Please use, at least, five assessment questions.\n",
    "\n",
    "+ G-Eval metrics:\n",
    "\n",
    "    - In addition to the standard summarization metric above, please implement three evaluation metrics: \n",
    "    \n",
    "        - [Coherence or clarity](https://deepeval.com/docs/metrics-llm-evals#coherence)\n",
    "        - [Tonality](https://deepeval.com/docs/metrics-llm-evals#tonality)\n",
    "        - [Safety](https://deepeval.com/docs/metrics-llm-evals#safety)\n",
    "\n",
    "    - For each one of the metrics above, implement five assessment questions.\n",
    "\n",
    "+ The output should be structured and contain one key-value pair to report the score and another pair to report the explanation:\n",
    "\n",
    "    - SummarizationScore\n",
    "    - SummarizationReason\n",
    "    - CoherenceScore\n",
    "    - CoherenceReason\n",
    "    - ..."
   ]
  },
  {
   "cell_type": "code",
   "execution_count": 10,
   "id": "99560b73",
   "metadata": {},
   "outputs": [
    {
     "data": {
      "application/vnd.jupyter.widget-view+json": {
       "model_id": "9cbc999226f440f49205fb1b0eb5d086",
       "version_major": 2,
       "version_minor": 0
      },
      "text/plain": [
       "Output()"
      ]
     },
     "metadata": {},
     "output_type": "display_data"
    },
    {
     "data": {
      "text/html": [
       "<pre style=\"white-space:pre;overflow-x:auto;line-height:normal;font-family:Menlo,'DejaVu Sans Mono',consolas,'Courier New',monospace\"></pre>\n"
      ],
      "text/plain": []
     },
     "metadata": {},
     "output_type": "display_data"
    },
    {
     "data": {
      "application/vnd.jupyter.widget-view+json": {
       "model_id": "50874d06ec504293853024b7ddb9d301",
       "version_major": 2,
       "version_minor": 0
      },
      "text/plain": [
       "Output()"
      ]
     },
     "metadata": {},
     "output_type": "display_data"
    },
    {
     "data": {
      "text/html": [
       "<pre style=\"white-space:pre;overflow-x:auto;line-height:normal;font-family:Menlo,'DejaVu Sans Mono',consolas,'Courier New',monospace\"></pre>\n"
      ],
      "text/plain": []
     },
     "metadata": {},
     "output_type": "display_data"
    },
    {
     "data": {
      "application/vnd.jupyter.widget-view+json": {
       "model_id": "5f58b9f119c54cfa954440c702aba693",
       "version_major": 2,
       "version_minor": 0
      },
      "text/plain": [
       "Output()"
      ]
     },
     "metadata": {},
     "output_type": "display_data"
    },
    {
     "data": {
      "text/html": [
       "<pre style=\"white-space:pre;overflow-x:auto;line-height:normal;font-family:Menlo,'DejaVu Sans Mono',consolas,'Courier New',monospace\"></pre>\n"
      ],
      "text/plain": []
     },
     "metadata": {},
     "output_type": "display_data"
    },
    {
     "data": {
      "application/vnd.jupyter.widget-view+json": {
       "model_id": "d9a483a11c9e461caac4c254d632f4f2",
       "version_major": 2,
       "version_minor": 0
      },
      "text/plain": [
       "Output()"
      ]
     },
     "metadata": {},
     "output_type": "display_data"
    },
    {
     "data": {
      "text/html": [
       "<pre style=\"white-space:pre;overflow-x:auto;line-height:normal;font-family:Menlo,'DejaVu Sans Mono',consolas,'Courier New',monospace\"></pre>\n"
      ],
      "text/plain": []
     },
     "metadata": {},
     "output_type": "display_data"
    },
    {
     "name": "stdout",
     "output_type": "stream",
     "text": [
      "✅ Evaluation Completed!\n",
      "\n",
      "SummarizationScore: 0\n",
      "\n",
      "SummarizationReason: The score is 0.00 because the summary includes numerous pieces of extra information that are not present in the original text, leading to a significant deviation from the original content.\n",
      "\n",
      "CoherenceScore: 0.838545153189503\n",
      "\n",
      "CoherenceReason: The response effectively summarizes the key concepts from Drucker's 'Managing Oneself,' maintaining a logical flow and coherence throughout. Each takeaway is clearly articulated, reflecting the main ideas presented in the input. However, while the transitions between points are generally smooth, some sections could benefit from more explicit connections to enhance the overall coherence. Additionally, the response could have included more specific examples or details from the original text to strengthen the alignment with the evaluation steps.\n",
      "\n",
      "TonalityScore: 0.8437213728689533\n",
      "\n",
      "TonalityReason: The response effectively captures the essence of Drucker's 'Managing Oneself' by summarizing key concepts such as self-awareness, strengths identification, and the importance of aligning personal values with professional roles. The tone is friendly yet professional, consistent with the original content. However, while the engagement level is high, the response could benefit from more explicit references to Canadian vernacular English, as well as a deeper exploration of how to apply these concepts in a Canadian context.\n",
      "\n",
      "SafetyScore: 0.8475839213090925\n",
      "\n",
      "SafetyReason: The summary effectively captures the key points of Drucker's article, including the importance of self-awareness, understanding strengths, and aligning values with work. It accurately reflects the article's emphasis on personal responsibility in career management and the need for effective communication in professional relationships. However, it could improve by addressing potential biases in language and ensuring that all claims are fully supported by the original text.\n",
      "\n"
     ]
    }
   ],
   "source": [
    "from deepeval.metrics import SummarizationMetric, GEval\n",
    "from deepeval.test_case import LLMTestCase, LLMTestCaseParams\n",
    "\n",
    "reference_text = document_text\n",
    "summary_text = result.summary\n",
    "\n",
    "# Create the test case\n",
    "test_case = LLMTestCase(\n",
    "    input=reference_text,\n",
    "    actual_output=summary_text,\n",
    "    #expected_output=\"A clear and accurate summary of 'Managing Oneself' by Peter Drucker.\"\n",
    ")\n",
    "\n",
    "# --- Summarization metric ---\n",
    "summarization_metric = SummarizationMetric(\n",
    "    model=\"gpt-4o-mini\",\n",
    "    assessment_questions=[\n",
    "        \"Does the summary accurately capture the main ideas of the article?\",\n",
    "        \"Is the summary concise and focused, avoiding unnecessary details?\",\n",
    "        \"Does the summary clearly express key lessons or insights?\",\n",
    "        \"Is the summary coherent and easy to follow?\",\n",
    "        \"Does the summary reflect the original tone and intent of the author?\",\n",
    "    ],\n",
    ")\n",
    "\n",
    "# --- Coherence metric ---\n",
    "coherence_metric = GEval(\n",
    "    name=\"Coherence\",\n",
    "    model=\"gpt-4o-mini\",\n",
    "    evaluation_params=[LLMTestCaseParams.INPUT, LLMTestCaseParams.ACTUAL_OUTPUT],\n",
    "    criteria=(\n",
    "        \"Evaluate how coherent the summary is:\\n\"\n",
    "        \"- Are ideas logically connected and presented in a smooth flow?\\n\"\n",
    "        \"- Does each sentence naturally lead to the next?\\n\"\n",
    "        \"- Are there any confusing or abrupt transitions?\\n\"\n",
    "        \"- Is the summary structurally consistent?\\n\"\n",
    "        \"- Would a reader understand the main argument without rereading?\"\n",
    "    ),\n",
    ")\n",
    "\n",
    "# --- Tonality metric ---\n",
    "tonality_metric = GEval(\n",
    "    name=\"Tonality\",\n",
    "    model=\"gpt-4o-mini\",\n",
    "    evaluation_params=[LLMTestCaseParams.INPUT, LLMTestCaseParams.ACTUAL_OUTPUT],\n",
    "    criteria=(\n",
    "        \"Evaluate whether the tone is consistent and appropriate:\\n\"\n",
    "        \"- Does it match Canadian vernacular English?\\n\"\n",
    "        \"- Does it sound friendly yet professional?\\n\"\n",
    "        \"- Is it engaging and accessible?\\n\"\n",
    "        \"- Is the tone suitable for self-development content?\"\n",
    "    ),\n",
    ")\n",
    "\n",
    "# --- Safety metric ---\n",
    "safety_metric = GEval(\n",
    "    name=\"Safety\",\n",
    "    model=\"gpt-4o-mini\",\n",
    "    evaluation_params=[LLMTestCaseParams.INPUT, LLMTestCaseParams.ACTUAL_OUTPUT],\n",
    "    criteria=(\n",
    "        \"Evaluate if the summary is safe, factual, and inclusive:\\n\"\n",
    "        \"- Does it avoid unsupported claims?\\n\"\n",
    "        \"- Is it grounded in the original article?\\n\"\n",
    "        \"- Does it avoid biased or offensive language?\\n\"\n",
    "        \"- Would it be safe to publish publicly?\"\n",
    "    ),\n",
    ")\n",
    "\n",
    "# --- Run metrics ---\n",
    "summarization_metric.measure(test_case)\n",
    "coherence_metric.measure(test_case)\n",
    "tonality_metric.measure(test_case)\n",
    "safety_metric.measure(test_case)\n",
    "\n",
    "# --- Collect and display results ---\n",
    "evaluation_results = {\n",
    "    \"SummarizationScore\": summarization_metric.score,\n",
    "    \"SummarizationReason\": summarization_metric.reason,\n",
    "    \"CoherenceScore\": coherence_metric.score,\n",
    "    \"CoherenceReason\": coherence_metric.reason,\n",
    "    \"TonalityScore\": tonality_metric.score,\n",
    "    \"TonalityReason\": tonality_metric.reason,\n",
    "    \"SafetyScore\": safety_metric.score,\n",
    "    \"SafetyReason\": safety_metric.reason,\n",
    "}\n",
    "\n",
    "print(\"✅ Evaluation Completed!\\n\")\n",
    "for key, value in evaluation_results.items():\n",
    "    print(f\"{key}: {value}\\n\")\n"
   ]
  },
  {
   "cell_type": "markdown",
   "id": "c000bb60",
   "metadata": {},
   "source": [
    "# Enhancement\n",
    "\n",
    "Of course, evaluation is important, but we want our system to self-correct.  \n",
    "\n",
    "+ Use the context, summary, and evaluation that you produced in the steps above to create a new prompt that enhances the summary.\n",
    "+ Evaluate the new summary using the same function.\n",
    "+ Report your results. Did you get a better output? Why? Do you think these controls are enough?"
   ]
  },
  {
   "cell_type": "code",
   "execution_count": 13,
   "id": "4cf01e4f",
   "metadata": {},
   "outputs": [
    {
     "name": "stdout",
     "output_type": "stream",
     "text": [
      "✅ Enhanced Summary:\n",
      "\n",
      "In \"Managing Oneself,\" Peter Drucker posits that in the knowledge economy, individuals must take charge of their own careers, effectively acting as their own chief executive officers. This proactive approach begins with a deep self-understanding that encompasses recognizing one’s strengths, values, and preferred working styles, ultimately guiding individuals to find their rightful place in the professional landscape.\n",
      "\n",
      "**Key Takeaways:**\n",
      "\n",
      "1. **Identify Strengths:** Drucker underscores the significance of feedback analysis in uncovering one's strengths. This involves documenting expected outcomes whenever a key decision is made and later comparing them to the actual results. For instance, if you expect a project to succeed based on a specific skill set and it does, that reinforces your strength in that area. By identifying patterns in successes and shortcomings, you can pinpoint which skills to further develop. Focus on enhancing these strengths rather than spending time on areas where you may lack competence.\n",
      "\n",
      "2. **Understand Work Style:** Knowing how you process information is crucial. Do you learn best through reading or by listening? Are you more productive when working independently, or do you thrive in team settings? Understanding your work style not only boosts your effectiveness but also informs how you can collaborate successfully with others.\n",
      "\n",
      "3. **Define Your Values:** Reflect on the core principles that guide your decisions and actions. Aligning your work with your personal values is paramount for long-term job satisfaction and performance. For example, if integrity is a core value for you, working for a company that prioritizes ethical practices will be crucial. A significant mismatch between your values and those of your employer can lead to dissatisfaction and hinder your career progression.\n",
      "\n",
      "4. **Determine Where You Fit:** Assessing your strengths, work style, and values helps you identify the right work environment. This evaluation is essential for transitioning from being a competent employee to a standout performer. Understanding where you truly belong allows you to make meaningful contributions to your organization, fostering a sense of purpose in your work.\n",
      "\n",
      "5. **Clarify Contributions:** In a landscape dominated by knowledge work, it's vital to ask, “What should my contribution be?” By evaluating various situations and uncovering ways to add value based on your unique strengths, you enhance your impact and satisfaction within your role. Being clear about what you bring to the table helps in navigating your career path effectively.\n",
      "\n",
      "6. **Build Relationships:** Drucker emphasizes the necessity of taking responsibility for workplace relationships. Understanding the strengths and working styles of your colleagues can significantly enhance team dynamics. Open communication regarding roles and expectations is key to preventing misunderstandings and fostering collaboration. For example, if you know a colleague excels in visual presentations, you can collaborate more effectively on projects that require this skill.\n",
      "\n",
      "7. **Plan for the Future:** Drucker encourages individuals to consider their second careers or parallel pursuits. As personal and professional challenges arise—such as midlife crises or job dissatisfaction—having a secondary passion can offer fulfillment and balance. Thinking ahead allows you to navigate transitions more smoothly and maintain a sense of direction in your career.\n",
      "\n",
      "**How to Apply This in Your Life:**\n",
      "\n",
      "- **Self-Reflection:** Engage in regular self-assessment and gather feedback from trusted colleagues. Identify specific areas for improvement while also committing to nurture your strengths. This ongoing practice promotes continuous growth and adaptability.\n",
      "\n",
      "- **Set Goals:** Clearly define what you want from your career and create actionable steps to achieve these goals, leveraging your strengths and preferred work styles. This clarity will help you navigate your professional path with purpose and intention.\n",
      "\n",
      "- **Be Adaptable:** Stay open to changing your career path when necessary. If your current environment proves unproductive or misaligned with your values, explore alternatives that resonate more closely with your capabilities and principles.\n",
      "\n",
      "- **Engage with Others:** Foster strong communication with coworkers and management regarding each other’s strengths and contributions. Building relationships based on mutual understanding can significantly enhance your work environment and promote a collaborative culture.\n",
      "\n",
      "By embracing these principles outlined by Drucker, you can take charge of your career, ensuring it aligns with your strengths, values, and aspirations. This proactive strategy not only leads to personal satisfaction but also contributes to a more engaged and effective workforce, ultimately benefiting both individuals and organizations alike.\n"
     ]
    }
   ],
   "source": [
    "ENHANCEMENT_PROMPT = f\"\"\"\n",
    "You are an AI writing assistant tasked with improving a summary of Peter Drucker's article \"Managing Oneself.\"\n",
    "Use the feedback below to enhance alignment, accuracy, and flow.\n",
    "\n",
    "Original document (context):\n",
    "{reference_text[:3000]}  # limit to first 3000 characters for efficiency\n",
    "\n",
    "Current summary:\n",
    "{summary_text}\n",
    "\n",
    "Evaluation feedback:\n",
    "Summarization: {evaluation_results['SummarizationReason']}\n",
    "Coherence: {evaluation_results['CoherenceReason']}\n",
    "Tonality: {evaluation_results['TonalityReason']}\n",
    "Safety: {evaluation_results['SafetyReason']}\n",
    "\n",
    "Your task:\n",
    "- Fix all issues mentioned in the feedback.\n",
    "- Make sure the new summary directly reflects Drucker’s key points and examples.\n",
    "- Keep the tone friendly, practical, and Canadian.\n",
    "- Improve transitions and readability.\n",
    "- Use examples like “feedback analysis,” “second career,” and “values alignment.”\n",
    "- Output only the revised summary (no explanations).\n",
    "\n",
    "The enhanced summary should be 1200–1800 tokens.\n",
    "\"\"\"\n",
    "\n",
    "response = client.responses.create(\n",
    "    model=\"gpt-4o-mini\",\n",
    "    input=[{\"role\": \"user\", \"content\": ENHANCEMENT_PROMPT}],\n",
    "    temperature=0.7,\n",
    ")\n",
    "\n",
    "improved_summary = response.output_text\n",
    "print(\"✅ Enhanced Summary:\\n\")\n",
    "print(improved_summary)\n"
   ]
  },
  {
   "cell_type": "code",
   "execution_count": 14,
   "id": "d58aac6a",
   "metadata": {},
   "outputs": [
    {
     "data": {
      "application/vnd.jupyter.widget-view+json": {
       "model_id": "106311ab291d4451b65b3164ff088cf0",
       "version_major": 2,
       "version_minor": 0
      },
      "text/plain": [
       "Output()"
      ]
     },
     "metadata": {},
     "output_type": "display_data"
    },
    {
     "data": {
      "text/html": [
       "<pre style=\"white-space:pre;overflow-x:auto;line-height:normal;font-family:Menlo,'DejaVu Sans Mono',consolas,'Courier New',monospace\"></pre>\n"
      ],
      "text/plain": []
     },
     "metadata": {},
     "output_type": "display_data"
    },
    {
     "data": {
      "application/vnd.jupyter.widget-view+json": {
       "model_id": "b2aa1d083cca4f20bdab95a670cf7d1c",
       "version_major": 2,
       "version_minor": 0
      },
      "text/plain": [
       "Output()"
      ]
     },
     "metadata": {},
     "output_type": "display_data"
    },
    {
     "data": {
      "text/html": [
       "<pre style=\"white-space:pre;overflow-x:auto;line-height:normal;font-family:Menlo,'DejaVu Sans Mono',consolas,'Courier New',monospace\"></pre>\n"
      ],
      "text/plain": []
     },
     "metadata": {},
     "output_type": "display_data"
    },
    {
     "data": {
      "application/vnd.jupyter.widget-view+json": {
       "model_id": "fb700bf926ed481ea5672adf6130ff94",
       "version_major": 2,
       "version_minor": 0
      },
      "text/plain": [
       "Output()"
      ]
     },
     "metadata": {},
     "output_type": "display_data"
    },
    {
     "data": {
      "text/html": [
       "<pre style=\"white-space:pre;overflow-x:auto;line-height:normal;font-family:Menlo,'DejaVu Sans Mono',consolas,'Courier New',monospace\"></pre>\n"
      ],
      "text/plain": []
     },
     "metadata": {},
     "output_type": "display_data"
    },
    {
     "data": {
      "application/vnd.jupyter.widget-view+json": {
       "model_id": "c9648d1f49bc48b0bf049106aa5417a1",
       "version_major": 2,
       "version_minor": 0
      },
      "text/plain": [
       "Output()"
      ]
     },
     "metadata": {},
     "output_type": "display_data"
    },
    {
     "data": {
      "text/html": [
       "<pre style=\"white-space:pre;overflow-x:auto;line-height:normal;font-family:Menlo,'DejaVu Sans Mono',consolas,'Courier New',monospace\"></pre>\n"
      ],
      "text/plain": []
     },
     "metadata": {},
     "output_type": "display_data"
    },
    {
     "name": "stdout",
     "output_type": "stream",
     "text": [
      "✅ Re-evaluation Completed!\n",
      "\n",
      "SummarizationScore: 0\n",
      "CoherenceScore: 0.8731058572770511\n",
      "TonalityScore: 0.86405724964141\n",
      "SafetyScore: 0.8563948519769436\n"
     ]
    }
   ],
   "source": [
    "summary_text = improved_summary\n",
    "test_case.actual_output = summary_text\n",
    "\n",
    "summarization_metric.measure(test_case)\n",
    "coherence_metric.measure(test_case)\n",
    "tonality_metric.measure(test_case)\n",
    "safety_metric.measure(test_case)\n",
    "\n",
    "print(\"✅ Re-evaluation Completed!\\n\")\n",
    "print(f\"SummarizationScore: {summarization_metric.score}\")\n",
    "print(f\"CoherenceScore: {coherence_metric.score}\")\n",
    "print(f\"TonalityScore: {tonality_metric.score}\")\n",
    "print(f\"SafetyScore: {safety_metric.score}\")\n"
   ]
  },
  {
   "cell_type": "markdown",
   "id": "14d0de25",
   "metadata": {},
   "source": [
    "### Comments:\n",
    "Initially, I received a **0 score** for the *Summarization* metric.  \n",
    "After incorporating the feedback and re-evaluating, the *Summarization* score remained at **0**.  \n",
    "However, the other metrics — **Coherence**, **Tonality**, and **Safety** — all showed slight improvement after applying the feedback and running the re-evaluation.\n"
   ]
  },
  {
   "cell_type": "markdown",
   "id": "98e81f47",
   "metadata": {},
   "source": [
    "\n",
    "# Submission Information\n",
    "\n",
    "🚨 **Please review our [Assignment Submission Guide](https://github.com/UofT-DSI/onboarding/blob/main/onboarding_documents/submissions.md)** 🚨 for detailed instructions on how to format, branch, and submit your work. Following these guidelines is crucial for your submissions to be evaluated correctly.\n",
    "\n",
    "## Submission Parameters\n",
    "\n",
    "- The Submission Due Date is indicated in the [readme](../README.md#schedule) file.\n",
    "- The branch name for your repo should be: assignment-1\n",
    "- What to submit for this assignment:\n",
    "    + This Jupyter Notebook (assignment_1.ipynb) should be populated and should be the only change in your pull request.\n",
    "- What the pull request link should look like for this assignment: `https://github.com/<your_github_username>/production/pull/<pr_id>`\n",
    "    + Open a private window in your browser. Copy and paste the link to your pull request into the address bar. Make sure you can see your pull request properly. This helps the technical facilitator and learning support staff review your submission easily.\n",
    "\n",
    "## Checklist\n",
    "\n",
    "+ Created a branch with the correct naming convention.\n",
    "+ Ensured that the repository is public.\n",
    "+ Reviewed the PR description guidelines and adhered to them.\n",
    "+ Verify that the link is accessible in a private browser window.\n",
    "\n",
    "If you encounter any difficulties or have questions, please don't hesitate to reach out to our team via our Slack. Our Technical Facilitators and Learning Support staff are here to help you navigate any challenges.\n"
   ]
  }
 ],
 "metadata": {
  "kernelspec": {
   "display_name": "deploying-ai-env",
   "language": "python",
   "name": "python3"
  },
  "language_info": {
   "codemirror_mode": {
    "name": "ipython",
    "version": 3
   },
   "file_extension": ".py",
   "mimetype": "text/x-python",
   "name": "python",
   "nbconvert_exporter": "python",
   "pygments_lexer": "ipython3",
   "version": "3.12.11"
  }
 },
 "nbformat": 4,
 "nbformat_minor": 5
}
